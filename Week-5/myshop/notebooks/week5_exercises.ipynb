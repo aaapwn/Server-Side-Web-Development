{
 "cells": [
  {
   "cell_type": "markdown",
   "metadata": {},
   "source": [
    "![erd](images/ERD.png)"
   ]
  },
  {
   "cell_type": "markdown",
   "metadata": {},
   "source": [
    "## Instruction\n",
    "\n",
    "1. ใช้ project myshop เดิมจากของ WEEK 4 มาทำต่อได้เลยครับ (ใครที่หา project ของ WEEK 4 ไม่เจอแล้ว ให้กลับไปทำตามขั้ยตอนใน week4_exercises.ipynb)\n",
    "2. ใช้ database `shop` เดิมได้เลยเช่นกันครับ\n",
    "\n",
    "**หมายเหตุ: ถ้านักศึกษาใช้ database เดิมจาก WEEK4 ซึ่งนักศึกษาเคยเพิ่มหรือแก้ไขข้อมูลบางส่วนแล้ว ดังนั้น output อาจจะไม่ตรงกับในตัวอย่างทั้งหมดไม่ต้องตกใจนะครับ**"
   ]
  },
  {
   "cell_type": "code",
   "execution_count": 9,
   "metadata": {},
   "outputs": [],
   "source": [
    "import os\n",
    "os.environ['DJANGO_ALLOW_ASYNC_UNSAFE'] = \"true\"\n",
    "\n",
    "# import modules\n",
    "from shop.models import *\n",
    "from django.db.models import *\n",
    "from django.db.models.functions import *"
   ]
  },
  {
   "cell_type": "markdown",
   "metadata": {},
   "source": [
    "### 1. annotate(), F()"
   ]
  },
  {
   "cell_type": "markdown",
   "metadata": {},
   "source": [
    "1.1 ให้นักศึกษาค้นหาข้อมูล `Payment` โดยให้เพิ่ม field ราคาที่ลบกับส่วนลดแล้ว โดยกำหนดให้ชื่อ field ว่า \"after_discount_price\" โดยใช้แสดงข้อมูล 10 ตัวแรกเรียงตาม \"after_discount_price\" จากมากไปน้อย (0.25 คะแนน)\n",
    "\n",
    "**หมายเหตุ: จะต้องใช้ annotate() นะครับ ให้เอา `Payment.price` - `Payment.discount`**\n",
    "\n",
    "ตัวอย่าง Output\n",
    "\n",
    "```\n",
    "ID: 92, PRICE: 1200500.00, DISCOUNT 29433.25, AFTER_DISCOUNT 1171066.75\n",
    "ID: 82, PRICE: 1200280.00, DISCOUNT 46229.40, AFTER_DISCOUNT 1154050.60\n",
    "ID: 137, PRICE: 1200690.00, DISCOUNT 71407.25, AFTER_DISCOUNT 1129282.75\n",
    "ID: 105, PRICE: 1200390.00, DISCOUNT 105019.11, AFTER_DISCOUNT 1095370.89\n",
    "ID: 45, PRICE: 1218900.00, DISCOUNT 126859.95, AFTER_DISCOUNT 1092040.05\n",
    "ID: 7, PRICE: 1201200.00, DISCOUNT 113446.20, AFTER_DISCOUNT 1087753.80\n",
    "ID: 18, PRICE: 1202190.00, DISCOUNT 121922.64, AFTER_DISCOUNT 1080267.36\n",
    "ID: 77, PRICE: 379000.00, DISCOUNT 19397.00, AFTER_DISCOUNT 359603.00\n",
    "ID: 127, PRICE: 320450.00, DISCOUNT 14578.90, AFTER_DISCOUNT 305871.10\n",
    "ID: 125, PRICE: 320399.00, DISCOUNT 17939.55, AFTER_DISCOUNT 302459.45\n",
    "```"
   ]
  },
  {
   "cell_type": "code",
   "execution_count": 5,
   "metadata": {},
   "outputs": [
    {
     "name": "stdout",
     "output_type": "stream",
     "text": [
      "ID: 92, PRICE: 1200500.00, DISCOUNT: 29433.25, AFTER_DISCOUNT: 1171066.75\n",
      "ID: 82, PRICE: 1200280.00, DISCOUNT: 46229.40, AFTER_DISCOUNT: 1154050.60\n",
      "ID: 137, PRICE: 1200690.00, DISCOUNT: 71407.25, AFTER_DISCOUNT: 1129282.75\n",
      "ID: 105, PRICE: 1200390.00, DISCOUNT: 105019.11, AFTER_DISCOUNT: 1095370.89\n",
      "ID: 45, PRICE: 1218900.00, DISCOUNT: 126859.95, AFTER_DISCOUNT: 1092040.05\n",
      "ID: 7, PRICE: 1201200.00, DISCOUNT: 113446.20, AFTER_DISCOUNT: 1087753.80\n",
      "ID: 18, PRICE: 1202190.00, DISCOUNT: 121922.64, AFTER_DISCOUNT: 1080267.36\n",
      "ID: 77, PRICE: 379000.00, DISCOUNT: 19397.00, AFTER_DISCOUNT: 359603.00\n",
      "ID: 127, PRICE: 320450.00, DISCOUNT: 14578.90, AFTER_DISCOUNT: 305871.10\n",
      "ID: 125, PRICE: 320399.00, DISCOUNT: 17939.55, AFTER_DISCOUNT: 302459.45\n"
     ]
    }
   ],
   "source": [
    "payments = Payment.objects.annotate(\n",
    "    after_discount_price = F('price') - F('discount')\n",
    ").order_by('-after_discount')[:10]\n",
    "\n",
    "for payment in payments.values():\n",
    "    print(f\"ID: {payment['id']}, PRICE: {payment['price']}, DISCOUNT: {payment['discount']}, AFTER_DISCOUNT: {payment['after_discount_price']}\")"
   ]
  },
  {
   "cell_type": "markdown",
   "metadata": {},
   "source": [
    "1.2 ต่อเนื่องจากข้อ 1.1 ให้ filter เฉพาะข้อมูล `Payment` ที่มี \"after_discount_price\" มากกว่า 500,000 (0.25 คะแนน)\n",
    "\n",
    "ตัวอย่าง Output\n",
    "\n",
    "```\n",
    "ID: 92, PRICE: 1200500.00, DISCOUNT 29433.25, AFTER_DISCOUNT 1171066.75\n",
    "ID: 82, PRICE: 1200280.00, DISCOUNT 46229.40, AFTER_DISCOUNT 1154050.60\n",
    "ID: 137, PRICE: 1200690.00, DISCOUNT 71407.25, AFTER_DISCOUNT 1129282.75\n",
    "ID: 105, PRICE: 1200390.00, DISCOUNT 105019.11, AFTER_DISCOUNT 1095370.89\n",
    "ID: 45, PRICE: 1218900.00, DISCOUNT 126859.95, AFTER_DISCOUNT 1092040.05\n",
    "ID: 7, PRICE: 1201200.00, DISCOUNT 113446.20, AFTER_DISCOUNT 1087753.80\n",
    "ID: 18, PRICE: 1202190.00, DISCOUNT 121922.64, AFTER_DISCOUNT 1080267.36\n",
    "```"
   ]
  },
  {
   "cell_type": "code",
   "execution_count": 6,
   "metadata": {},
   "outputs": [
    {
     "name": "stdout",
     "output_type": "stream",
     "text": [
      "ID: 92, PRICE: 1200500.00, DISCOUNT: 29433.25, AFTER_DISCOUNT: 1171066.75\n",
      "ID: 82, PRICE: 1200280.00, DISCOUNT: 46229.40, AFTER_DISCOUNT: 1154050.60\n",
      "ID: 137, PRICE: 1200690.00, DISCOUNT: 71407.25, AFTER_DISCOUNT: 1129282.75\n",
      "ID: 105, PRICE: 1200390.00, DISCOUNT: 105019.11, AFTER_DISCOUNT: 1095370.89\n",
      "ID: 45, PRICE: 1218900.00, DISCOUNT: 126859.95, AFTER_DISCOUNT: 1092040.05\n",
      "ID: 7, PRICE: 1201200.00, DISCOUNT: 113446.20, AFTER_DISCOUNT: 1087753.80\n",
      "ID: 18, PRICE: 1202190.00, DISCOUNT: 121922.64, AFTER_DISCOUNT: 1080267.36\n"
     ]
    }
   ],
   "source": [
    "payments = Payment.objects.annotate(\n",
    "    after_discount = F('price') - F('discount')\n",
    ").filter(\n",
    "    after_discount__gt = 500000\n",
    ").order_by('-after_discount')[:10]\n",
    "\n",
    "for payment in payments.values():\n",
    "    print(f\"ID: {payment['id']}, PRICE: {payment['price']}, DISCOUNT: {payment['discount']}, AFTER_DISCOUNT: {payment['after_discount']}\")"
   ]
  },
  {
   "cell_type": "code",
   "execution_count": null,
   "metadata": {},
   "outputs": [],
   "source": []
  },
  {
   "cell_type": "markdown",
   "metadata": {},
   "source": [
    "1.3 ให้นักศึกษาเรียงลำดับข้อมูลลูกค้า (`Customer`) โดยเรียงลำดับตามลำดับตัวอักษร `น้อยไปมาก` จากชื่อเต็มของลูกค้า (`full_name`) โดยแสดง 5 คนแรก (0.5 คะแนน)\n",
    "\n",
    "**Hint:** Field `full_name` นั้นจะต้องถูก annotate ขึ้นมาโดยการนำ `first_name` มาต่อกับ `last_name` โดยใช้ `Concat(*expressions, **extra)` \n",
    "\n",
    "**Hint:** แปลง object เป็น dict ใช้ `values()` [doc](https://docs.djangoproject.com/en/5.0/ref/models/querysets/#values)\n",
    "\n",
    "```python\n",
    ">>> Blog.objects.filter(name__startswith=\"Beatles\").values()\n",
    "<QuerySet [{'id': 1, 'name': 'Beatles Blog', 'tagline': 'All the latest Beatles news.'}]>\n",
    "```\n",
    "\n",
    "**Hint:** อยาก print dictionary สวยๆ ใช้ `json.dumps`\n",
    "\n",
    "```python\n",
    "print(json.dumps(dictionary, indent=4, sort_keys=False))\n",
    "```\n",
    "\n",
    "[doc](https://docs.djangoproject.com/en/5.0/ref/models/database-functions/#concat)\n",
    "\n",
    "ตัวอย่าง Output \n",
    "\n",
    "```python\n",
    "{\n",
    "    \"id\": 17,\n",
    "    \"email\": \"anantaya.deena@gmail.com\",\n",
    "    \"address\": {\n",
    "        \"district\": \"Yan Nawa\",\n",
    "        \"location\": \"60 Thanon Chan Road\",\n",
    "        \"province\": \"Bangkok\",\n",
    "        \"postal_code\": 10120\n",
    "    },\n",
    "    \"full_name\": \"Anantaya Tontong\"\n",
    "}\n",
    "{\n",
    "    \"id\": 25,\n",
    "    \"email\": \"bancha.zeyou@gmail.com\",\n",
    "    \"address\": {\n",
    "        \"district\": \"Watthana\",\n",
    "        \"location\": \"6 Thong Lo Road\",\n",
    "        \"province\": \"Bangkok\",\n",
    "        \"postal_code\": 10110\n",
    "    },\n",
    "    \"full_name\": \"Bancha Kittisompong\"\n",
    "}\n",
    "{\n",
    "    \"id\": 19,\n",
    "    \"email\": \"chayapol.231@gmail.com\",\n",
    "    \"address\": {\n",
    "        \"district\": \"Hang Chat\",\n",
    "        \"location\": \"160 Lampang Road\",\n",
    "        \"province\": \"Lampang\",\n",
    "        \"postal_code\": 52190\n",
    "    },\n",
    "    \"full_name\": \"Chayapol Komprach\"\n",
    "}\n",
    "{\n",
    "    \"id\": 4,\n",
    "    \"email\": \"dejwit.tt@gmail.com\",\n",
    "    \"address\": {\n",
    "        \"district\": \"Chiang Khan\",\n",
    "        \"location\": \"150 Loei Road\",\n",
    "        \"province\": \"Loei\",\n",
    "        \"postal_code\": 42110\n",
    "    },\n",
    "    \"full_name\": \"Dejwit Tangjareonsakul\"\n",
    "}\n",
    "{\n",
    "    \"id\": 11,\n",
    "    \"email\": \"jack.maa@gmail.com\",\n",
    "    \"address\": {\n",
    "        \"district\": \"Bang Khen\",\n",
    "        \"location\": \"88 Phahonyothin Road\",\n",
    "        \"province\": \"Bangkok\",\n",
    "        \"postal_code\": 10220\n",
    "    },\n",
    "    \"full_name\": \"Jack Maa\"\n",
    "}\n",
    "\n",
    "```"
   ]
  },
  {
   "cell_type": "code",
   "execution_count": 14,
   "metadata": {},
   "outputs": [
    {
     "name": "stdout",
     "output_type": "stream",
     "text": [
      "[\n",
      "    {\n",
      "        \"id\": 17,\n",
      "        \"first_name\": \"Anantaya\",\n",
      "        \"last_name\": \"Tontong\",\n",
      "        \"email\": \"anantaya.deena@gmail.com\",\n",
      "        \"address\": {\n",
      "            \"district\": \"Yan Nawa\",\n",
      "            \"location\": \"60 Thanon Chan Road\",\n",
      "            \"province\": \"Bangkok\",\n",
      "            \"postal_code\": 10120\n",
      "        },\n",
      "        \"full_name\": \"Anantaya Tontong\"\n",
      "    },\n",
      "    {\n",
      "        \"id\": 25,\n",
      "        \"first_name\": \"Bancha\",\n",
      "        \"last_name\": \"Kittisompong\",\n",
      "        \"email\": \"bancha.zeyou@gmail.com\",\n",
      "        \"address\": {\n",
      "            \"district\": \"Watthana\",\n",
      "            \"location\": \"6 Thong Lo Road\",\n",
      "            \"province\": \"Bangkok\",\n",
      "            \"postal_code\": 10110\n",
      "        },\n",
      "        \"full_name\": \"Bancha Kittisompong\"\n",
      "    },\n",
      "    {\n",
      "        \"id\": 19,\n",
      "        \"first_name\": \"Chayapol\",\n",
      "        \"last_name\": \"Komprach\",\n",
      "        \"email\": \"chayapol.231@gmail.com\",\n",
      "        \"address\": {\n",
      "            \"district\": \"Hang Chat\",\n",
      "            \"location\": \"160 Lampang Road\",\n",
      "            \"province\": \"Lampang\",\n",
      "            \"postal_code\": 52190\n",
      "        },\n",
      "        \"full_name\": \"Chayapol Komprach\"\n",
      "    },\n",
      "    {\n",
      "        \"id\": 4,\n",
      "        \"first_name\": \"Dejwit\",\n",
      "        \"last_name\": \"Tangjareonsakul\",\n",
      "        \"email\": \"dejwit.tt@gmail.com\",\n",
      "        \"address\": {\n",
      "            \"district\": \"Chiang Khan\",\n",
      "            \"location\": \"150 Loei Road\",\n",
      "            \"province\": \"Loei\",\n",
      "            \"postal_code\": 42110\n",
      "        },\n",
      "        \"full_name\": \"Dejwit Tangjareonsakul\"\n",
      "    },\n",
      "    {\n",
      "        \"id\": 11,\n",
      "        \"first_name\": \"Jack\",\n",
      "        \"last_name\": \"Maa\",\n",
      "        \"email\": \"jack.maa@gmail.com\",\n",
      "        \"address\": {\n",
      "            \"district\": \"Bang Khen\",\n",
      "            \"location\": \"88 Phahonyothin Road\",\n",
      "            \"province\": \"Bangkok\",\n",
      "            \"postal_code\": 10220\n",
      "        },\n",
      "        \"full_name\": \"Jack Maa\"\n",
      "    }\n",
      "]\n"
     ]
    }
   ],
   "source": [
    "import json\n",
    "\n",
    "customers = Customer.objects.annotate(\n",
    "    full_name = Concat(F('first_name'), Value(' '), F('last_name'))\n",
    ").order_by('full_name')[:5]\n",
    "\n",
    "print(json.dumps(list(customers.values()), indent=4, sort_keys=False))"
   ]
  },
  {
   "cell_type": "markdown",
   "metadata": {},
   "source": [
    "### 3. aggregation - count(), sum(), AVG()\n"
   ]
  },
  {
   "cell_type": "markdown",
   "metadata": {},
   "source": [
    "3.1 ให้นักศึกษาหาค่าเฉลี่ยของราคาสินค้า (`Product.price`) ที่มีจำนวนคงเหลือ (`Product.remaining_amount`) มากกว่า 0 (0.25 คะแนน)\n",
    "\n",
    "``` PYTHON\n",
    "{'avg': Decimal('29308.000000000000')}\n",
    "```\n"
   ]
  },
  {
   "cell_type": "code",
   "execution_count": 17,
   "metadata": {},
   "outputs": [
    {
     "name": "stdout",
     "output_type": "stream",
     "text": [
      "{'avg': Decimal('29308.000000000000')}\n"
     ]
    }
   ],
   "source": [
    "avg = Product.objects.filter(\n",
    "    remaining_amount__gt = 0\n",
    ").aggregate(avg = Avg('price'))\n",
    "\n",
    "print(avg)"
   ]
  },
  {
   "cell_type": "markdown",
   "metadata": {},
   "source": [
    "3.2 จงหาผลรวมราคา (`CartItem.product.price`) ที่อยู่ในตระกร้าสินค้าของเดือน `พฤษภาคม` (ดูจาก `Cart.create_date`) (0.5 คะแนน)\n",
    "\n",
    "```PYTHON\n",
    "{'sum': Decimal('9912555.00')}\n",
    "\n",
    "```"
   ]
  },
  {
   "cell_type": "code",
   "execution_count": 21,
   "metadata": {},
   "outputs": [
    {
     "name": "stdout",
     "output_type": "stream",
     "text": [
      "{'sum': Decimal('9912555.00')}\n"
     ]
    }
   ],
   "source": [
    "sum = CartItem.objects.filter(\n",
    "    cart__create_date__month = 5\n",
    ").aggregate(sum = Sum('product__price'))\n",
    "\n",
    "print(sum)"
   ]
  },
  {
   "cell_type": "markdown",
   "metadata": {},
   "source": [
    "3.3 ให้นักศึกษานับจำนวนสินค้าที่อยู่ประเภท `Electronics`,  `Jewelry` และ ราคาของสินค้าอยู่ในช่วง 8,000.00 - 50,000.00 (0.25 คะแนน)\n",
    "\n",
    "```\n",
    "PRODUCT CATEGORY NAME: Electronics, PRODUCT COUNT: 6\n",
    "PRODUCT CATEGORY NAME: Jewelry, PRODUCT COUNT: 1\n",
    "```"
   ]
  },
  {
   "cell_type": "code",
   "execution_count": 36,
   "metadata": {},
   "outputs": [
    {
     "name": "stdout",
     "output_type": "stream",
     "text": [
      "PRODUCT CATEGORY NAME: Electronics, PRODUCT COUNT: 6\n",
      "PRODUCT CATEGORY NAME: Jewelry, PRODUCT COUNT: 1\n"
     ]
    }
   ],
   "source": [
    "categories = ProductCategory.objects.filter(\n",
    "    Q(name=\"Electronics\") | Q(name=\"Jewelry\"),\n",
    "    product__price__range = (8000, 50000)\n",
    ").annotate(\n",
    "    product_count = Count('product__id')\n",
    ").values()\n",
    "\n",
    "for category in categories:\n",
    "    print(f\"PRODUCT CATEGORY NAME: {category['name']}, PRODUCT COUNT: {category['product_count']}\")"
   ]
  },
  {
   "cell_type": "markdown",
   "metadata": {},
   "source": [
    "### 4. one-to-one & one-to-many"
   ]
  },
  {
   "cell_type": "markdown",
   "metadata": {},
   "source": [
    "4.1 ให้นักศึกษาทำการ INSERT ข้อมูลใบสั่งซื้อ (`Order`) และการชำระเงิน (`Payment`) ของลูกค้าชื่อ `Manit Senapan` ตามรายการดังนี้ให้สมบูรณ์ (0.5 คะแนน)\n",
    "\n",
    "**Hint:** ใน model `Payment` เรามีการเก็บค่า `price` เป็น Decimal ทำให้ค่าของราคาเป็น Decimal เช่นกัน)\n",
    "[Decimal](https://docs.python.org/3/library/decimal.html)\n",
    "\n",
    "- ออกใบสั่งซื้อวันที่ 5 สิงหาคม 2024\n",
    "- ชำระเงินวันที่ 6 สิงหาคม 2024\n",
    "- หมายเหตุ: `ฉันรวย อยากใช้เงินเยอะๆ`\n",
    "    \n",
    "    โดย Manit สั่งสิ้นค้าดั่งนี้\n",
    "\n",
    "        - Diamond Stud Earrings จำนวน 1 ชิ้น\n",
    "\n",
    "        - Sofa จำนวน 2 ชิ้น\n",
    "\n",
    "        - Rose Gold Hoop Earrings จำนวน 1 ชิ้น\n",
    "    \n",
    "- โดยที่ Manit ได้รับส่วนลดชิ้นละ 10 % ของสินค้า และมีการระบุหมายเหตุตอนชำระเงินว่า `ลูกค้า VIP ของเรา`\n",
    "    \n",
    "- พร้อมชำระเงินโดยให้ 50 % ของราคาทั้งหมดชำระด้วยการแสกน QR code และที่เหลือชำระผ่านบัตรเคดิต\n",
    "\n",
    "- จากนั้นให้ระบบแสดงผลการสร้างใบสั่งซื้อ และการชำระเงินของ Manit ให้ถูกต้อง\n",
    "\n",
    "\n",
    "ตัวอย่าง output ที่ต้องการ\n",
    "```PYTHON\n",
    "{\n",
    "    'order_id': 186,\n",
    "    'order_date': '2024-08-05',\n",
    "    'order_remark': 'ฉันรวย อยากใช้เงินเยอะๆ',\n",
    "    'products': [\n",
    "        {\n",
    "            'product': 'Diamond Stud Earrings',\n",
    "            'amount': 1,\n",
    "            'price': 320000.0,\n",
    "            'discount': 32000.0\n",
    "        },\n",
    "        {\n",
    "            'product': 'Sofa', \n",
    "            'amount': 2, \n",
    "            'price': 14000.0, \n",
    "            'discount': 1400.0\n",
    "        },\n",
    "        {\n",
    "            'product': 'Rose Gold Hoop Earrings',\n",
    "            'amount': 1,\n",
    "            'price': 1200000.0,\n",
    "            'discount': 120000.0\n",
    "        }\n",
    "    ],\n",
    "    'payment_date': '2024-08-06',\n",
    "    'payment_remark': 'ลูกค้า VIP ของเรา',\n",
    "    'payment_method': [\n",
    "        {\n",
    "            'method': 'QR', \n",
    "            'price': 767000.0\n",
    "        },\n",
    "        {\n",
    "            'method': 'CREDIT', \n",
    "            'price': 767000.0\n",
    "        }\n",
    "    ]\n",
    "}\n",
    "\n",
    "```"
   ]
  },
  {
   "cell_type": "code",
   "execution_count": null,
   "metadata": {},
   "outputs": [],
   "source": []
  },
  {
   "cell_type": "code",
   "execution_count": null,
   "metadata": {},
   "outputs": [],
   "source": []
  },
  {
   "cell_type": "markdown",
   "metadata": {},
   "source": [
    "### 5. many-to-many"
   ]
  },
  {
   "cell_type": "markdown",
   "metadata": {},
   "source": [
    "5.1 ให้นักศึกษาค้นหาข้อมูลสินค้า (`Product`) ที่อยู่ในประเภทสินค้า \"Information Technology\" 10 รายการแรก (เรียงลำดับด้วย `Product.id`) และแสดงชื่อประเภทสินค้า (`ProductCategory`) (0.25 คะแนน)\n",
    "\n",
    "ตัวอย่าง Output บางส่วน\n",
    "\n",
    "```\n",
    "PRODUCT ID: 1, PRODUCT NAME: Smartphone, PRODUCT CATEGORY: Information technology, Electronics\n",
    "PRODUCT ID: 2, PRODUCT NAME: Laptop, PRODUCT CATEGORY: Information technology, Electronics\n",
    "PRODUCT ID: 3, PRODUCT NAME: Smart TV, PRODUCT CATEGORY: Information technology, Electronics\n",
    "```"
   ]
  },
  {
   "cell_type": "code",
   "execution_count": 99,
   "metadata": {},
   "outputs": [
    {
     "name": "stdout",
     "output_type": "stream",
     "text": [
      "PRODUCT ID: 1, PRODUCT NAME: Smartphone, PRODUCT CATEGORY: Information Technology, Electronics\n",
      "PRODUCT ID: 2, PRODUCT NAME: Laptop, PRODUCT CATEGORY: Information Technology, Electronics\n",
      "PRODUCT ID: 3, PRODUCT NAME: Smart TV, PRODUCT CATEGORY: Information Technology, Electronics\n",
      "PRODUCT ID: 4, PRODUCT NAME: Bluetooth Earphones, PRODUCT CATEGORY: Information Technology, Electronics\n",
      "PRODUCT ID: 5, PRODUCT NAME: Tablet, PRODUCT CATEGORY: Information Technology, Electronics\n",
      "PRODUCT ID: 6, PRODUCT NAME: Gaming Console, PRODUCT CATEGORY: Information Technology, Electronics\n",
      "PRODUCT ID: 7, PRODUCT NAME: Digital Camera, PRODUCT CATEGORY: Information Technology, Electronics\n",
      "PRODUCT ID: 8, PRODUCT NAME: Wireless Router, PRODUCT CATEGORY: Information Technology, Electronics\n",
      "PRODUCT ID: 9, PRODUCT NAME: Portable Power Bank, PRODUCT CATEGORY: Information Technology, Electronics\n",
      "PRODUCT ID: 10, PRODUCT NAME: Smartwatch, PRODUCT CATEGORY: Information Technology, Electronics\n"
     ]
    }
   ],
   "source": [
    "products = Product.objects.filter(\n",
    "    categories__name=\"Information Technology\"\n",
    ").order_by(\"id\")[:10]\n",
    "\n",
    "for product in products:\n",
    "    category_names = [category.name for category in product.categories.all()]\n",
    "    print(f\"PRODUCT ID: {product.id}, PRODUCT NAME: {product.name}, PRODUCT CATEGORY: {', '.join(category_names)}\")"
   ]
  },
  {
   "cell_type": "markdown",
   "metadata": {},
   "source": [
    "5.2 ให้นักศึกษาทำตามขั้นตอนดังนี้ (0.25 คะแนน)\n",
    "\n",
    "**หมายเหตุ: ถ้าใช้ DB จาก WEEK4 `Books and Media` อาจจะถูกเปลี่ยนเป็น `Books` แล้ว**\n",
    "\n",
    "    1. เปลี่ยนชื่อประเภทสินค้า `Books and Media` เป็น `Books and Toys` \n",
    "    2. ลบประเภท `Toys and Games` ออกโดยให้ใช้เป็น `Books and Toys` แทน\n",
    "    3. ค้นหาว่าสินค้าที่มีประเภทสินค้าเป็น `Books and Toys` ทั้งหมดมีจำนวนเท่าไหร่"
   ]
  },
  {
   "cell_type": "code",
   "execution_count": 62,
   "metadata": {},
   "outputs": [
    {
     "name": "stdout",
     "output_type": "stream",
     "text": [
      "10\n"
     ]
    }
   ],
   "source": [
    "book_and_toys = ProductCategory.objects.get(name=\"Books and Media\")\n",
    "book_and_toys.name = \"Books and Toys\"\n",
    "book_and_toys.save()\n",
    "\n",
    "toys_and_games = ProductCategory.objects.get(name=\"Toys and Games\")\n",
    "products = Product.objects.filter(categories=toys_and_games)\n",
    "\n",
    "for product in products:\n",
    "    product.categories.remove(toys_and_games)\n",
    "    product.categories.add(book_and_toys)\n",
    "    \n",
    "toys_and_games.delete()\n",
    "\n",
    "print(Product.objects.filter(categories__name=\"Books and Toys\").count())"
   ]
  },
  {
   "cell_type": "code",
   "execution_count": null,
   "metadata": {},
   "outputs": [],
   "source": []
  }
 ],
 "metadata": {
  "kernelspec": {
   "display_name": "Django Shell-Plus",
   "language": "python",
   "name": "django_extensions"
  },
  "language_info": {
   "codemirror_mode": {
    "name": "ipython",
    "version": 3
   },
   "file_extension": ".py",
   "mimetype": "text/x-python",
   "name": "python",
   "nbconvert_exporter": "python",
   "pygments_lexer": "ipython3",
   "version": "3.10.9"
  }
 },
 "nbformat": 4,
 "nbformat_minor": 2
}
